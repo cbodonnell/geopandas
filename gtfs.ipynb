{
 "cells": [
  {
   "cell_type": "markdown",
   "metadata": {},
   "source": [
    "# GTFS"
   ]
  },
  {
   "cell_type": "markdown",
   "metadata": {},
   "source": [
    "## Create a geopandas geodataframe from a GTFS feed"
   ]
  },
  {
   "cell_type": "markdown",
   "metadata": {},
   "source": [
    "Here is a url for a GTFS data feed. Let's turn it into a flexible geodataframe!"
   ]
  },
  {
   "cell_type": "code",
   "execution_count": null,
   "metadata": {},
   "outputs": [],
   "source": [
    "url = 'http://web.mta.info/developers/data/nyct/subway/google_transit.zip'"
   ]
  },
  {
   "cell_type": "markdown",
   "metadata": {},
   "source": [
    "We first have to import some modules from the [Python standard library](https://docs.python.org/3/library/)\n",
    "\n",
    "We also have to import some third party modules.\n",
    "\n",
    "Add the *conda-forge* channel to your base channel by running:\n",
    "\n",
    "`conda config --add channels conda-forge`\n",
    "\n",
    "You can then create an environment with these dependencies by running: \n",
    "\n",
    "`conda create --name geo_env --file package-list.txt`"
   ]
  },
  {
   "cell_type": "code",
   "execution_count": null,
   "metadata": {},
   "outputs": [],
   "source": [
    "import requests\n",
    "from zipfile import ZipFile\n",
    "from io import StringIO, BytesIO\n",
    "\n",
    "import geopandas as gpd\n",
    "import pandas as pd\n",
    "import matplotlib.pyplot as plt\n",
    "import contextily as ctx\n",
    "from shapely import geometry"
   ]
  },
  {
   "cell_type": "markdown",
   "metadata": {},
   "source": [
    "Define a function for reading gtfs zipfiles into python dataframes. The dataframes are stored in a python dictionary."
   ]
  },
  {
   "cell_type": "code",
   "execution_count": null,
   "metadata": {},
   "outputs": [],
   "source": [
    "def zipToDataframes(zip):\n",
    "    dataframes = {}\n",
    "    for file in zip.filelist:\n",
    "        file_name = file.filename\n",
    "        with zip.open(file_name) as f:\n",
    "            bytes = f.read()\n",
    "            s = str(bytes, 'utf-8')\n",
    "            data = StringIO(s)\n",
    "            df = pd.read_csv(data, low_memory=False)\n",
    "            name = file_name.split('.txt')[0]\n",
    "            dataframes[name] = df\n",
    "    return dataframes"
   ]
  },
  {
   "cell_type": "markdown",
   "metadata": {},
   "source": [
    "Run the function and list the resulting dataframes. The number of dataframes will vary between different gtfs sources.\n",
    "\n",
    "*You can also work with a local copy of the data for improved performance*"
   ]
  },
  {
   "cell_type": "code",
   "execution_count": null,
   "metadata": {},
   "outputs": [],
   "source": [
    "#zip = zipfile.ZipFile('data/nyc_subways.zip')\n",
    "r = requests.get(url)\n",
    "zip = ZipFile(BytesIO(r.content))\n",
    "gtfs_dataframes = zipToDataframes(zip)\n",
    "list(gtfs_dataframes)"
   ]
  },
  {
   "cell_type": "markdown",
   "metadata": {},
   "source": [
    "Let's take a look at the agency dataframe"
   ]
  },
  {
   "cell_type": "code",
   "execution_count": null,
   "metadata": {},
   "outputs": [],
   "source": [
    "agency = gtfs_dataframes['agency']\n",
    "agency.head()"
   ]
  },
  {
   "cell_type": "markdown",
   "metadata": {},
   "source": [
    "Here's the routes dataframe"
   ]
  },
  {
   "cell_type": "code",
   "execution_count": null,
   "metadata": {},
   "outputs": [],
   "source": [
    "routes = gtfs_dataframes['routes']\n",
    "routes.head()"
   ]
  },
  {
   "cell_type": "markdown",
   "metadata": {},
   "source": [
    "We can join the agency and routes dataframes on the agency_id column"
   ]
  },
  {
   "cell_type": "code",
   "execution_count": null,
   "metadata": {},
   "outputs": [],
   "source": [
    "agency_routes = agency.join(\n",
    "    routes.set_index('agency_id'),\n",
    "    on='agency_id'\n",
    ")\n",
    "agency_routes.head()"
   ]
  },
  {
   "cell_type": "markdown",
   "metadata": {},
   "source": [
    "Here's a look at the trips datframe"
   ]
  },
  {
   "cell_type": "code",
   "execution_count": null,
   "metadata": {},
   "outputs": [],
   "source": [
    "trips = gtfs_dataframes['trips']\n",
    "trips.head()"
   ]
  },
  {
   "cell_type": "markdown",
   "metadata": {},
   "source": [
    "We can join the trips and routes dataframes on the route_id"
   ]
  },
  {
   "cell_type": "code",
   "execution_count": null,
   "metadata": {},
   "outputs": [],
   "source": [
    "routes_trips = agency_routes.join(\n",
    "    trips.set_index('route_id'),\n",
    "    on='route_id'\n",
    ")\n",
    "routes_trips.head()"
   ]
  },
  {
   "cell_type": "markdown",
   "metadata": {},
   "source": [
    "This is the shapes dataframe. It contains the spatial data for the trips in the GTFS feed."
   ]
  },
  {
   "cell_type": "code",
   "execution_count": null,
   "metadata": {},
   "outputs": [],
   "source": [
    "shapes = gtfs_dataframes['shapes']\n",
    "shapes.head()"
   ]
  },
  {
   "cell_type": "markdown",
   "metadata": {},
   "source": [
    "We can join the shapes and trips on the shape_id column. Let's also drop a bunch of columns that no longer need."
   ]
  },
  {
   "cell_type": "code",
   "execution_count": null,
   "metadata": {},
   "outputs": [],
   "source": [
    "shapes_trips = shapes.join(\n",
    "    routes_trips.set_index('shape_id'),\n",
    "    on='shape_id'\n",
    ")\n",
    "\n",
    "shapes_trips.drop(\n",
    "    [\n",
    "        'service_id',\n",
    "        'trip_id',\n",
    "        'trip_headsign',\n",
    "        'direction_id',\n",
    "        'block_id',\n",
    "        'shape_pt_sequence',\n",
    "        'shape_dist_traveled'\n",
    "    ], \n",
    "    axis=1\n",
    ").reset_index(drop=True)"
   ]
  },
  {
   "cell_type": "markdown",
   "metadata": {},
   "source": [
    "Let's list the unique route ids"
   ]
  },
  {
   "cell_type": "code",
   "execution_count": null,
   "metadata": {},
   "outputs": [],
   "source": [
    "list(routes.route_id.unique())"
   ]
  },
  {
   "cell_type": "markdown",
   "metadata": {},
   "source": [
    "Now for the fun part... We're going to transform this data into a geodataframe. Additional information describing each step is provided in the code comments."
   ]
  },
  {
   "cell_type": "code",
   "execution_count": null,
   "metadata": {},
   "outputs": [],
   "source": [
    "# Create a list to store the shapes for each route\n",
    "route_list = []\n",
    "\n",
    "# For each unique route_id\n",
    "for route_id in routes.route_id.unique():\n",
    "    \n",
    "    # get the route shapes\n",
    "    route_shapes = shapes_trips.loc[shapes_trips.route_id == route_id]\n",
    "    \n",
    "    # check if there are shapes\n",
    "    if route_shapes.size > 0:\n",
    "        \n",
    "        # get the points for each shape\n",
    "        route_shapes = route_shapes.drop_duplicates(\n",
    "            subset=['shape_id', 'shape_pt_lat', 'shape_pt_lon'],\n",
    "            keep='first'\n",
    "        ).reset_index(drop=True)\n",
    "\n",
    "        # add a shapely geometry column\n",
    "        route_shapes['geometry'] = route_shapes.apply(\n",
    "            lambda row: geometry.Point(row.shape_pt_lon, row.shape_pt_lat),\n",
    "            axis=1\n",
    "        )\n",
    "\n",
    "        # create a new dataframe with one row for each route shape\n",
    "        unique_route_shapes = route_shapes.drop_duplicates(\n",
    "            subset=['shape_id'],\n",
    "            keep='first'\n",
    "        ).drop(\n",
    "            [\n",
    "                'shape_pt_lat',\n",
    "                'shape_pt_lon'\n",
    "            ], \n",
    "            axis=1\n",
    "        ).reset_index(drop=True)\n",
    "\n",
    "        # create a linestring for each shape from its points\n",
    "        unique_route_shapes['geometry'] = unique_route_shapes.apply(\n",
    "            lambda row: geometry.LineString(\n",
    "                route_shapes.loc[route_shapes.shape_id == row.shape_id].geometry.to_list()\n",
    "            ),\n",
    "            axis=1\n",
    "        )\n",
    "\n",
    "        # append the shapes to the route list\n",
    "        route_list.append(unique_route_shapes)\n",
    "\n",
    "# create a geodataframe from the route list\n",
    "network = gpd.GeoDataFrame(pd.concat(route_list)).reset_index(drop=True)\n",
    "network.set_crs(4236, inplace=True) # set the spatial reference\n",
    "network.to_crs(epsg=3857, inplace=True) # project the coordinates\n",
    "network.head()"
   ]
  },
  {
   "cell_type": "markdown",
   "metadata": {},
   "source": [
    "Check if there is a route color and set a default, if none."
   ]
  },
  {
   "cell_type": "code",
   "execution_count": null,
   "metadata": {},
   "outputs": [],
   "source": [
    "default_color = '000000'\n",
    "if 'route_color' in network.columns:\n",
    "    network.route_color.fillna(default_color, inplace=True)\n",
    "else:\n",
    "    network.route_color = default_color"
   ]
  },
  {
   "cell_type": "markdown",
   "metadata": {},
   "source": [
    "Now we can plot the geodataframe"
   ]
  },
  {
   "cell_type": "code",
   "execution_count": null,
   "metadata": {},
   "outputs": [],
   "source": [
    "ax = network.plot(color='#' + network.route_color, figsize=(10, 10), alpha=0.5)\n",
    "ctx.add_basemap(ax)\n",
    "plt.show()"
   ]
  },
  {
   "cell_type": "markdown",
   "metadata": {},
   "source": [
    "Contextily provides a number of basemap sources"
   ]
  },
  {
   "cell_type": "code",
   "execution_count": null,
   "metadata": {},
   "outputs": [],
   "source": [
    "list(ctx.providers.keys())"
   ]
  },
  {
   "cell_type": "markdown",
   "metadata": {},
   "source": [
    "Let's take a look at CartoDB"
   ]
  },
  {
   "cell_type": "code",
   "execution_count": null,
   "metadata": {},
   "outputs": [],
   "source": [
    "list(ctx.providers.CartoDB.keys())"
   ]
  },
  {
   "cell_type": "markdown",
   "metadata": {},
   "source": [
    "Here's our final plot of the GTFS routes!"
   ]
  },
  {
   "cell_type": "code",
   "execution_count": null,
   "metadata": {},
   "outputs": [],
   "source": [
    "ax = network.plot(color='#' + network.route_color, figsize=(10, 10), alpha=0.5)\n",
    "ctx.add_basemap(ax, source=ctx.providers.CartoDB.Positron)\n",
    "plt.show()"
   ]
  },
  {
   "cell_type": "code",
   "execution_count": null,
   "metadata": {},
   "outputs": [],
   "source": []
  }
 ],
 "metadata": {
  "kernelspec": {
   "display_name": "geo_env",
   "language": "python",
   "name": "geo_env"
  },
  "language_info": {
   "codemirror_mode": {
    "name": "ipython",
    "version": 3
   },
   "file_extension": ".py",
   "mimetype": "text/x-python",
   "name": "python",
   "nbconvert_exporter": "python",
   "pygments_lexer": "ipython3",
   "version": "3.9.1"
  }
 },
 "nbformat": 4,
 "nbformat_minor": 4
}
