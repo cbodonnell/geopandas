{
 "cells": [
  {
   "cell_type": "markdown",
   "metadata": {},
   "source": [
    "# GTFS"
   ]
  },
  {
   "cell_type": "markdown",
   "metadata": {},
   "source": [
    "## Routes from Shapes"
   ]
  },
  {
   "cell_type": "code",
   "execution_count": null,
   "metadata": {},
   "outputs": [],
   "source": [
    "import geopandas as gpd\n",
    "import pandas as pd\n",
    "import matplotlib.pyplot as plt\n",
    "import contextily as ctx\n",
    "from zipfile import ZipFile\n",
    "from io import StringIO\n",
    "from shapely.geometry import Point, LineString"
   ]
  },
  {
   "cell_type": "code",
   "execution_count": null,
   "metadata": {},
   "outputs": [],
   "source": [
    "def zipToDataframes(file_path):\n",
    "    with ZipFile(file_path) as zip:\n",
    "        dataframes = {}\n",
    "        for file in zip.filelist:\n",
    "            file_name = file.filename\n",
    "            with zip.open(file_name) as f:\n",
    "                bytes = f.read()\n",
    "                s = str(bytes, 'utf-8')\n",
    "                data = StringIO(s)\n",
    "                df = pd.read_csv(data)\n",
    "                name = file_name.split('.txt')[0]\n",
    "                dataframes[name] = df\n",
    "        return dataframes"
   ]
  },
  {
   "cell_type": "code",
   "execution_count": null,
   "metadata": {},
   "outputs": [],
   "source": [
    "gtfs_dataframes = zipToDataframes('data/gtfs.zip')\n",
    "list(gtfs_dataframes)"
   ]
  },
  {
   "cell_type": "code",
   "execution_count": null,
   "metadata": {},
   "outputs": [],
   "source": [
    "agency = gtfs_dataframes['agency']\n",
    "agency.head()"
   ]
  },
  {
   "cell_type": "code",
   "execution_count": null,
   "metadata": {},
   "outputs": [],
   "source": [
    "routes = gtfs_dataframes['routes']\n",
    "routes.head()"
   ]
  },
  {
   "cell_type": "code",
   "execution_count": null,
   "metadata": {},
   "outputs": [],
   "source": [
    "agency_routes = agency.join(\n",
    "    routes.set_index('agency_id'),\n",
    "    on='agency_id'\n",
    ")\n",
    "agency_routes.head()"
   ]
  },
  {
   "cell_type": "code",
   "execution_count": null,
   "metadata": {},
   "outputs": [],
   "source": [
    "trips = gtfs_dataframes['trips']\n",
    "trips.head()"
   ]
  },
  {
   "cell_type": "code",
   "execution_count": null,
   "metadata": {},
   "outputs": [],
   "source": [
    "routes_trips = agency_routes.join(\n",
    "    trips.set_index('route_id'),\n",
    "    on='route_id'\n",
    ")\n",
    "routes_trips.head()"
   ]
  },
  {
   "cell_type": "code",
   "execution_count": null,
   "metadata": {},
   "outputs": [],
   "source": [
    "shapes = gtfs_dataframes['shapes']\n",
    "shapes.head()"
   ]
  },
  {
   "cell_type": "code",
   "execution_count": null,
   "metadata": {},
   "outputs": [],
   "source": [
    "shapes_trips = shapes.join(\n",
    "    routes_trips.set_index('shape_id'),\n",
    "    on='shape_id'\n",
    ")\n",
    "shapes_trips.head()"
   ]
  },
  {
   "cell_type": "code",
   "execution_count": null,
   "metadata": {},
   "outputs": [],
   "source": [
    "list(shapes_trips.route_id.unique())"
   ]
  },
  {
   "cell_type": "code",
   "execution_count": null,
   "metadata": {},
   "outputs": [],
   "source": [
    "route_list = []\n",
    "\n",
    "for route_id in routes.route_id.unique():\n",
    "    route_shapes = shapes_trips.loc[shapes_trips.route_id == route_id]\n",
    "    if route_shapes.size > 0:\n",
    "        route_shapes = route_shapes.drop_duplicates(\n",
    "            subset=['shape_id', 'shape_pt_lat', 'shape_pt_lon'],\n",
    "            keep='first'\n",
    "        ).reset_index(drop=True)\n",
    "\n",
    "        route_shapes['geometry'] = route_shapes.apply(\n",
    "            lambda row: Point(row.shape_pt_lon, row.shape_pt_lat),\n",
    "            axis=1\n",
    "        )\n",
    "\n",
    "        unique_route_shapes = route_shapes.drop_duplicates(\n",
    "            subset=['shape_id'],\n",
    "            keep='first'\n",
    "        ).drop(\n",
    "            [\n",
    "                'service_id',\n",
    "                'trip_id',\n",
    "                'trip_headsign',\n",
    "                'direction_id',\n",
    "                'block_id',\n",
    "                'shape_pt_lat',\n",
    "                'shape_pt_lon',\n",
    "                'shape_pt_sequence',\n",
    "                'shape_dist_traveled'\n",
    "            ], \n",
    "            axis=1\n",
    "        ).reset_index(drop=True)\n",
    "\n",
    "        unique_route_shapes['geometry'] = unique_route_shapes.apply(\n",
    "            lambda row: LineString(\n",
    "                route_shapes.loc[route_shapes.shape_id == row.shape_id].geometry.to_list()\n",
    "            ),\n",
    "            axis=1\n",
    "        )\n",
    "\n",
    "        route_list.append(unique_route_shapes)\n",
    "\n",
    "network = gpd.GeoDataFrame(pd.concat(route_list))\n",
    "network.set_crs(4236, inplace=True)\n",
    "network.to_crs(epsg=3857, inplace=True)\n",
    "network.head()"
   ]
  },
  {
   "cell_type": "code",
   "execution_count": null,
   "metadata": {},
   "outputs": [],
   "source": [
    "network.route_color.fillna('000000', inplace=True)\n",
    "\n",
    "ax = network.plot(color='#' + network.route_color, figsize=(10, 10), alpha=0.5)\n",
    "ctx.add_basemap(ax)\n",
    "plt.show()"
   ]
  },
  {
   "cell_type": "code",
   "execution_count": null,
   "metadata": {},
   "outputs": [],
   "source": []
  }
 ],
 "metadata": {
  "kernelspec": {
   "display_name": "geo_env",
   "language": "python",
   "name": "geo_env"
  },
  "language_info": {
   "codemirror_mode": {
    "name": "ipython",
    "version": 3
   },
   "file_extension": ".py",
   "mimetype": "text/x-python",
   "name": "python",
   "nbconvert_exporter": "python",
   "pygments_lexer": "ipython3",
   "version": "3.9.1"
  }
 },
 "nbformat": 4,
 "nbformat_minor": 2
}
