{
 "cells": [
  {
   "cell_type": "markdown",
   "id": "bearing-graphics",
   "metadata": {},
   "source": [
    "# Geopandas Examples"
   ]
  },
  {
   "cell_type": "markdown",
   "id": "collective-nitrogen",
   "metadata": {},
   "source": [
    "## Basics"
   ]
  },
  {
   "cell_type": "markdown",
   "id": "distinguished-separate",
   "metadata": {},
   "source": [
    "Import geopandas, matplotlib, and contextily"
   ]
  },
  {
   "cell_type": "code",
   "execution_count": null,
   "id": "ranging-metropolitan",
   "metadata": {},
   "outputs": [],
   "source": [
    "import geopandas as gpd\n",
    "import pandas as pd\n",
    "import matplotlib.pyplot as plt\n",
    "import contextily as ctx"
   ]
  },
  {
   "cell_type": "markdown",
   "id": "alpine-charles",
   "metadata": {},
   "source": [
    "Geopandas has a few datasets included out-of-the-box"
   ]
  },
  {
   "cell_type": "code",
   "execution_count": null,
   "id": "together-italic",
   "metadata": {},
   "outputs": [],
   "source": [
    "gpd.datasets.available"
   ]
  },
  {
   "cell_type": "markdown",
   "id": "underlying-guinea",
   "metadata": {},
   "source": [
    "Read New York City borough boundaries dataset"
   ]
  },
  {
   "cell_type": "code",
   "execution_count": null,
   "id": "brown-radar",
   "metadata": {
    "scrolled": false
   },
   "outputs": [],
   "source": [
    "nyc = gpd.read_file(gpd.datasets.get_path('nybb'))\n",
    "nyc.head()"
   ]
  },
  {
   "cell_type": "markdown",
   "id": "foreign-province",
   "metadata": {},
   "source": [
    "Project coordinates to WGS84 (https://epsg.io/3857)"
   ]
  },
  {
   "cell_type": "code",
   "execution_count": null,
   "id": "technical-chosen",
   "metadata": {
    "scrolled": true
   },
   "outputs": [],
   "source": [
    "nyc = nyc.to_crs(epsg=3857)\n",
    "nyc.head()"
   ]
  },
  {
   "cell_type": "markdown",
   "id": "structural-croatia",
   "metadata": {},
   "source": [
    "Plot boundaries with contextily basemap"
   ]
  },
  {
   "cell_type": "code",
   "execution_count": null,
   "id": "middle-gothic",
   "metadata": {},
   "outputs": [],
   "source": [
    "ax = nyc.plot(figsize=(10, 10), alpha=0.5, edgecolor='k')\n",
    "ctx.add_basemap(ax)\n",
    "plt.show()"
   ]
  },
  {
   "cell_type": "markdown",
   "id": "vanilla-america",
   "metadata": {},
   "source": [
    "## NYC Modal Split by Census Tract"
   ]
  },
  {
   "cell_type": "markdown",
   "id": "dynamic-victory",
   "metadata": {},
   "source": [
    "Read NYC 2010 Census Tract data (https://www1.nyc.gov/site/planning/data-maps/open-data/districts-download-metadata.page)"
   ]
  },
  {
   "cell_type": "code",
   "execution_count": null,
   "id": "heavy-delay",
   "metadata": {},
   "outputs": [],
   "source": [
    "# You can download and work with a local copy, or read it directly from the hosted source\n",
    "#nyc_census_tracts = gpd.read_file(\"data/census_tracts.geojson\")\n",
    "nyc_census_tracts = gpd.read_file(\"https://services5.arcgis.com/GfwWNkhOj9bNBqoJ/arcgis/rest/services/NYC_Census_Blocks_for_2010_US_Census/FeatureServer/0/query?where=1=1&outFields=*&outSR=4326&f=pgeojson\")\n",
    "nyc_census_tracts.head()"
   ]
  },
  {
   "cell_type": "code",
   "execution_count": null,
   "id": "minute-cruise",
   "metadata": {
    "scrolled": false
   },
   "outputs": [],
   "source": [
    "nyc_census_tracts = nyc_census_tracts.to_crs(epsg=3857)\n",
    "nyc_census_tracts.head()"
   ]
  },
  {
   "cell_type": "code",
   "execution_count": null,
   "id": "opened-patch",
   "metadata": {
    "scrolled": false
   },
   "outputs": [],
   "source": [
    "ax = nyc_census_tracts.plot(figsize=(10, 10), alpha=0.5, edgecolor='k')\n",
    "ctx.add_basemap(ax)\n",
    "#plt.show()"
   ]
  },
  {
   "cell_type": "markdown",
   "id": "warming-december",
   "metadata": {},
   "source": [
    "Read a modal split dataset that was created from ACS 2019 5-year data (TODO: Add references on how to create this set)"
   ]
  },
  {
   "cell_type": "code",
   "execution_count": null,
   "id": "automotive-employment",
   "metadata": {},
   "outputs": [],
   "source": [
    "modal_split_data = pd.read_csv(\n",
    "    \"data/NYC_Mode_Split_Veh_Occ_2019.csv\",\n",
    "    converters={'tract': lambda x: str(x)} # specify converter to keep leading zeros (TODO: fix in dataset eventually)\n",
    ")\n",
    "modal_split_data.head()"
   ]
  },
  {
   "cell_type": "markdown",
   "id": "consistent-niagara",
   "metadata": {},
   "source": [
    "Join NYC Census tract dataset and modal split dataset on the census tract column"
   ]
  },
  {
   "cell_type": "code",
   "execution_count": null,
   "id": "expensive-track",
   "metadata": {
    "scrolled": false
   },
   "outputs": [],
   "source": [
    "modal_split_data_tracts = nyc_census_tracts.join(\n",
    "    modal_split_data.set_index('tract'),\n",
    "    on='CT2010'\n",
    ")\n",
    "modal_split_data_tracts.head()"
   ]
  },
  {
   "cell_type": "markdown",
   "id": "considered-california",
   "metadata": {},
   "source": [
    "Plot the data and apply a color map on the auto share column"
   ]
  },
  {
   "cell_type": "code",
   "execution_count": null,
   "id": "artistic-yemen",
   "metadata": {},
   "outputs": [],
   "source": [
    "\n",
    "ax = modal_split_data_tracts.plot(column='auto', cmap='PuRd', figsize=(10, 10), alpha=0.75)\n",
    "ctx.add_basemap(ax)\n",
    "plt.show()"
   ]
  },
  {
   "cell_type": "code",
   "execution_count": null,
   "id": "steady-charge",
   "metadata": {
    "scrolled": true
   },
   "outputs": [],
   "source": [
    "#nyc_subways = gpd.read_file(\"data/nyc_subways.geojson\")\n",
    "nyc_subways = gpd.read_file(\"https://data.cityofnewyork.us/api/geospatial/3qz8-muuu?method=export&format=GeoJSON\")\n",
    "nyc_subways = nyc_subways.to_crs(epsg=3857)\n",
    "nyc_subways.head()"
   ]
  },
  {
   "cell_type": "code",
   "execution_count": null,
   "id": "signal-funds",
   "metadata": {},
   "outputs": [],
   "source": [
    "figure, ax = plt.subplots(1, 1, figsize=(10, 10))\n",
    "modal_split_data_tracts.plot(ax=ax, column='auto', cmap='PuRd', alpha=0.75)\n",
    "nyc_subways.plot(ax=ax)\n",
    "ctx.add_basemap(ax)\n",
    "plt.show()\n",
    "#figure"
   ]
  },
  {
   "cell_type": "code",
   "execution_count": null,
   "id": "sophisticated-comparison",
   "metadata": {},
   "outputs": [],
   "source": []
  }
 ],
 "metadata": {
  "kernelspec": {
   "display_name": "geo_env",
   "language": "python",
   "name": "geo_env"
  },
  "language_info": {
   "codemirror_mode": {
    "name": "ipython",
    "version": 3
   },
   "file_extension": ".py",
   "mimetype": "text/x-python",
   "name": "python",
   "nbconvert_exporter": "python",
   "pygments_lexer": "ipython3",
   "version": "3.9.1"
  }
 },
 "nbformat": 4,
 "nbformat_minor": 5
}
